{
  "cells": [
    {
      "cell_type": "code",
      "source": [
        "from google.colab import drive\n",
        "drive.mount('/content/drive')"
      ],
      "metadata": {
        "colab": {
          "base_uri": "https://localhost:8080/"
        },
        "id": "dLfN6NqcNXWD",
        "outputId": "7b70a567-c7b7-49a1-8da1-20bdab803e86"
      },
      "execution_count": null,
      "outputs": [
        {
          "output_type": "stream",
          "name": "stdout",
          "text": [
            "Mounted at /content/drive\n"
          ]
        }
      ]
    },
    {
      "cell_type": "code",
      "execution_count": null,
      "metadata": {
        "id": "1qBe4mE-NQdi"
      },
      "outputs": [],
      "source": [
        "import requests\n",
        "import pandas as pd\n",
        "import time\n",
        "import concurrent.futures\n",
        "\n",
        "start = time.time()\n",
        "\n",
        "def get_api_data(num):\n",
        "    print(f\"Page number: {num}\")\n",
        "\n",
        "    if num != 1:\n",
        "        page_n = f\"&page={num}\"\n",
        "        url = f'https://api-dtp.yhxbb.uz/api/ebgov/open_data/?format=json{page_n}'\n",
        "    else:\n",
        "        url = 'https://api-dtp.yhxbb.uz/api/egov/open_data/?format=json'\n",
        "\n",
        "    response = requests.get(url)\n",
        "    if response.status_code == 200:\n",
        "        json_data = response.json()\n",
        "        df = pd.DataFrame(json_data)\n",
        "        return df\n",
        "    else:\n",
        "        print(f\"Error: Unable to fetch data from the API. Page number: {num}\")\n",
        "        return pd.DataFrame()  # Return an empty DataFrame in case of error\n",
        "\n",
        "num_data = 161901\n",
        "range_list = [i for i in range(1, int(num_data/10)+1)]\n",
        "\n",
        "MAX_THREADS = 10\n",
        "\n",
        "# Collect DataFrames in a list\n",
        "dataframes = []\n",
        "with concurrent.futures.ThreadPoolExecutor(max_workers=MAX_THREADS) as executor:\n",
        "    # Use list comprehension to collect returned DataFrames\n",
        "    dataframes = list(executor.map(get_api_data, range_list))\n",
        "\n",
        "# Concatenate all DataFrames\n",
        "all_df = pd.concat(dataframes, ignore_index=True)\n",
        "\n",
        "stop = time.time()\n",
        "\n",
        "print(f\"Taked time: {stop-start}\")\n"
      ]
    },
    {
      "cell_type": "code",
      "execution_count": null,
      "metadata": {
        "id": "bPmmkjaKNQdl"
      },
      "outputs": [],
      "source": [
        "# to JSON\n",
        "all_df.to_json('/content/drive/MyDrive/LinkData/dtp_uz/Database/dtp_uz_.json', orient='records')"
      ]
    },
    {
      "cell_type": "code",
      "execution_count": null,
      "metadata": {
        "id": "cDckPeQQNQdm"
      },
      "outputs": [],
      "source": [
        "import pandas as pd\n",
        "all_df = pd.read_json('/content/drive/MyDrive/LinkData/dtp_uz/Database/dtp_uz.json')"
      ]
    },
    {
      "cell_type": "code",
      "execution_count": null,
      "metadata": {
        "id": "4ZWAbBQvNQdm"
      },
      "outputs": [],
      "source": [
        "# from google.colab import drive\n",
        "from google.colab import files\n",
        "\n",
        "file_name = \"dtp_uz.csv\"\n",
        "all_df.to_csv(file_name)\n",
        "files.download(file_name)"
      ]
    },
    {
      "cell_type": "code",
      "execution_count": null,
      "metadata": {
        "id": "ZQBBWTG1CBoD"
      },
      "outputs": [],
      "source": []
    }
  ],
  "metadata": {
    "colab": {
      "provenance": []
    },
    "kernelspec": {
      "display_name": "Python 3 (ipykernel)",
      "language": "python",
      "name": "python3"
    },
    "language_info": {
      "codemirror_mode": {
        "name": "ipython",
        "version": 3
      },
      "file_extension": ".py",
      "mimetype": "text/x-python",
      "name": "python",
      "nbconvert_exporter": "python",
      "pygments_lexer": "ipython3",
      "version": "3.11.5"
    }
  },
  "nbformat": 4,
  "nbformat_minor": 0
}